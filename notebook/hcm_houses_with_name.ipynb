{
 "cells": [
  {
   "cell_type": "code",
   "execution_count": 15,
   "id": "d5cd9289",
   "metadata": {},
   "outputs": [],
   "source": [
    "import pandas as pd\n",
    "import numpy as np\n",
    "from scipy import stats\n",
    "\n",
    "df = pd.read_csv('hcm_houses_with_name.csv')\n",
    "\n",
    "df['price_per_m2'] = (df['Price'] * 1000) / df['Area']"
   ]
  },
  {
   "cell_type": "markdown",
   "id": "fa5fef28",
   "metadata": {},
   "source": [
    "Bước 2: Chuẩn hóa dữ liệu thu được bằng z-score để loại bỏ ảnh hưởng của đơn vị đo."
   ]
  },
  {
   "cell_type": "code",
   "execution_count": 16,
   "id": "c3f2dc4a",
   "metadata": {},
   "outputs": [
    {
     "name": "stdout",
     "output_type": "stream",
     "text": [
      "                                              Address  price_per_m2   z_score\n",
      "0   Đường Vườn Lài, Phường An Phú Đông, Quận 12, H...     95.238095 -0.021415\n",
      "1   Đường Cư Xá Phú Lâm A, Phường 12, Quận 6, Hồ C...    137.142857  0.971376\n",
      "2              Phường Thạnh Lộc, Quận 12, Hồ Chí Minh     53.797468 -1.003210\n",
      "3   Dự án Melosa Garden, Đường Vành Đai Trong, Phư...     82.000000 -0.335047\n",
      "4   Đường Quốc Lộ 13, Phường Hiệp Bình Phước, Thủ ...    136.446886  0.954887\n",
      "..                                                ...           ...       ...\n",
      "95  Đường Trần Hưng Đạo, Phường Cầu Kho, Quận 1, H...    214.285714  2.799013\n",
      "96  Đường Tân Thới Hiệp 6, Phường Tân Thới Hiệp, Q...     68.421053 -0.656754\n",
      "97    Đường 9, Phường Linh Xuân, Thủ Đức, Hồ Chí Minh     60.000000 -0.856262\n",
      "98  Dự án Bàu Cát II, Đường Ni Sư Huỳnh Liên, Phườ...     70.290534 -0.612463\n",
      "99  Đường  Phó Đức Chính, Phường 1, Bình Thạnh, Hồ...    157.407407  1.451475\n",
      "\n",
      "[100 rows x 3 columns]\n"
     ]
    }
   ],
   "source": [
    "x_bar = df['price_per_m2'].mean()\n",
    "s = df['price_per_m2'].std(ddof=1)  \n",
    "\n",
    "df['z_score'] = (df['price_per_m2'] - x_bar) / s\n",
    "\n",
    "print(df[['Address', 'price_per_m2', 'z_score']])"
   ]
  },
  {
   "cell_type": "code",
   "execution_count": 17,
   "id": "8f2c800f",
   "metadata": {},
   "outputs": [
    {
     "name": "stdout",
     "output_type": "stream",
     "text": [
      "Requirement already satisfied: scipy in c:\\khdl\\venv\\lib\\site-packages (1.16.2)\n",
      "Requirement already satisfied: numpy<2.6,>=1.25.2 in c:\\khdl\\venv\\lib\\site-packages (from scipy) (2.3.3)\n"
     ]
    },
    {
     "name": "stderr",
     "output_type": "stream",
     "text": [
      "\n",
      "[notice] A new release of pip is available: 25.0.1 -> 25.2\n",
      "[notice] To update, run: python.exe -m pip install --upgrade pip\n"
     ]
    }
   ],
   "source": [
    "!pip install scipy"
   ]
  },
  {
   "cell_type": "markdown",
   "id": "6771dfbb",
   "metadata": {},
   "source": [
    "Bước 3: Ước lượng khoảng tin cậy (Confidence Interval) cho giá nhà trung bình."
   ]
  },
  {
   "cell_type": "code",
   "execution_count": 18,
   "id": "bbc10ba5",
   "metadata": {},
   "outputs": [
    {
     "name": "stdout",
     "output_type": "stream",
     "text": [
      "Khoảng tin cậy 95.0% cho giá nhà trung bình:\n",
      "(87.87; 104.41) triệu đồng/m²\n",
      "Giá công bố của báo Tuổi Trẻ: 68 triệu đồng/m²\n"
     ]
    }
   ],
   "source": [
    "n = len(df)\n",
    "x_bar = df['price_per_m2'].mean()\n",
    "s = df['price_per_m2'].std(ddof=1)\n",
    "\n",
    "confidence_level = 0.95\n",
    "alpha = 1 - confidence_level\n",
    "z_critical = stats.norm.ppf(1 - alpha/2)\n",
    "\n",
    "se = s / np.sqrt(n)  \n",
    "margin_error = z_critical * se\n",
    "\n",
    "ci_lower = x_bar - margin_error\n",
    "ci_upper = x_bar + margin_error\n",
    "\n",
    "print(f\"Khoảng tin cậy {confidence_level*100}% cho giá nhà trung bình:\")\n",
    "print(f\"({ci_lower:.2f}; {ci_upper:.2f}) triệu đồng/m²\")\n",
    "print(f\"Giá công bố của báo Tuổi Trẻ: 68 triệu đồng/m²\")"
   ]
  },
  {
   "cell_type": "markdown",
   "id": "7b617947",
   "metadata": {},
   "source": [
    "Bước 4: Thực hiện kiểm định giả thuyết thống kê để xem giá nhà trung bình hiện tại có cao hơn 68 triệu đồng/m² với mức ý nghĩa 5% hay không."
   ]
  },
  {
   "cell_type": "code",
   "execution_count": null,
   "id": "0a11bbe3",
   "metadata": {},
   "outputs": [
    {
     "name": "stdout",
     "output_type": "stream",
     "text": [
      "=== KẾT QUẢ KIỂM ĐỊNH GIẢ THUYẾT ===\n",
      "Giá trung bình mẫu: 96.14 triệu đồng/m²\n",
      "Giá trị giả thuyết (μ₀): 68 triệu đồng/m²\n",
      "Z-score tính được: 6.6673\n",
      "Z-score tới hạn (α=0.05): 1.6449\n",
      "P-value: 0.0000000000\n",
      "\n",
      "KẾT LUẬN: Bác bỏ giả thuyết H₀\n",
      "=> Giá nhà trung bình THỰC SỰ CAO HƠN 68 triệu đồng/m²\n",
      "\n",
      "Độ chênh lệch: 28.14 triệu đồng/m²\n",
      "Tỷ lệ chênh lệch: 41.4%\n"
     ]
    }
   ],
   "source": [
    "n = len(df)\n",
    "x_bar = df['price_per_m2'].mean()\n",
    "s = df['price_per_m2'].std(ddof=1)\n",
    "mu_0 = 68  \n",
    "\n",
    "z_statistic = (x_bar - mu_0) / (s / np.sqrt(n))\n",
    "\n",
    "p_value = 1 - stats.norm.cdf(z_statistic)\n",
    "\n",
    "z_critical = stats.norm.ppf(0.95)  \n",
    "\n",
    "print(\"=== KẾT QUẢ KIỂM ĐỊNH GIẢ THUYẾT ===\")\n",
    "print(f\"Giá trung bình mẫu: {x_bar:.2f} triệu đồng/m²\")\n",
    "print(f\"Giá trị giả thuyết (μ₀): {mu_0} triệu đồng/m²\")\n",
    "print(f\"Z-score tính được: {z_statistic:.4f}\")\n",
    "print(f\"Z-score tới hạn (α=0.05): {z_critical:.4f}\")\n",
    "print(f\"P-value: {p_value:.10f}\")\n",
    "print()\n",
    "\n",
    "if z_statistic > z_critical:\n",
    "    print(\"KẾT LUẬN: Bác bỏ giả thuyết H₀\")\n",
    "    print(\"=> Giá nhà trung bình THỰC SỰ CAO HƠN 68 triệu đồng/m²\")\n",
    "else:\n",
    "    print(\"KẾT LUẬN: Không đủ bằng chứng để bác bỏ H₀\")\n",
    "    print(\"=> Chưa thể kết luận giá nhà cao hơn 68 triệu đồng/m²\")\n",
    "\n",
    "print()\n",
    "print(f\"Độ chênh lệch: {x_bar - mu_0:.2f} triệu đồng/m²\")\n",
    "print(f\"Tỷ lệ chênh lệch: {(x_bar/mu_0 - 1)*100:.1f}%\")"
   ]
  }
 ],
 "metadata": {
  "kernelspec": {
   "display_name": "venv",
   "language": "python",
   "name": "python3"
  },
  "language_info": {
   "codemirror_mode": {
    "name": "ipython",
    "version": 3
   },
   "file_extension": ".py",
   "mimetype": "text/x-python",
   "name": "python",
   "nbconvert_exporter": "python",
   "pygments_lexer": "ipython3",
   "version": "3.13.3"
  }
 },
 "nbformat": 4,
 "nbformat_minor": 5
}
