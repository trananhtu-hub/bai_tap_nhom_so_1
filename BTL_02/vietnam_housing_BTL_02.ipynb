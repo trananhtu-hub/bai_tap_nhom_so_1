{
 "cells": [
  {
   "cell_type": "code",
   "execution_count": 3,
   "id": "184be3c1",
   "metadata": {},
   "outputs": [],
   "source": [
    "import requests\n",
    "from bs4 import BeautifulSoup\n",
    "import pandas as pd\n",
    "import time\n",
    "import random"
   ]
  },
  {
   "cell_type": "markdown",
   "id": "028cd7b6",
   "metadata": {},
   "source": [
    "\n",
    "## PHẦN 1: KHAI BÁO BIẾN VÀ THƯ VIỆN\n",
    "\n",
    "# Mục tiêu:\n",
    "- Import các thư viện cần thiết\n",
    "- Khai báo URL cơ sở và headers để giả lập trình duyệt\n",
    "\n",
    "# Giải thích:\n",
    "- `BASE_URL`: Template URL với placeholder `{}` cho số trang\n",
    "- `HEADERS`: Giả lập User-Agent của Chrome để tránh bị website chặn\n",
    "- Các thư viện: requests (gử HTTP), BeautifulSoup (parse HTML), pandas (xử lý data), time & random (tạm dừng)\n"
   ]
  },
  {
   "cell_type": "code",
   "execution_count": null,
   "id": "980d2c9b",
   "metadata": {},
   "outputs": [],
   "source": [
    "BASE_URL = \"https://homedy.com/ban-nha-dat/p{}\"  \n",
    "HEADERS = {\n",
    "    'User-Agent': 'Mozilla/5.0 (Windows NT 10.0; Win64; x64) AppleWebKit/537.36 (KHTML, like Gecko) Chrome/91.0.4472.124 Safari/537.36'\n",
    "}"
   ]
  },
  {
   "cell_type": "markdown",
   "id": "0358cbe3",
   "metadata": {},
   "source": [
    "## PHẦN 2: KHỞI TẠO BIẾN VÀ DỮ LIỆU\n",
    "\n",
    "\n",
    "# Mục tiêu:\n",
    "- Khởi tạo các biến cần thiết cho quá trình crawl\n",
    "- Thiết lập giới hạn dữ liệu cần thu thập\n",
    "\n",
    "# Giải thích:\n",
    "- `data`: List rỗng để lưu trữ tất cả các bản ghi thu thập được\n",
    "- `max_data`: Số lượng mẫu tối đa muốn thu thập (2000 theo yêu cầu)\n",
    "- `page`: Biến đếm trang, bắt đầu từ trang 1\n"
   ]
  },
  {
   "cell_type": "code",
   "execution_count": null,
   "id": "9646e74b",
   "metadata": {},
   "outputs": [],
   "source": [
    "data = []\n",
    "max_data = 2000\n",
    "page = 1"
   ]
  },
  {
   "cell_type": "markdown",
   "id": "8af951d7",
   "metadata": {},
   "source": [
    "## PHẦN 3: VÒNG LẶP CRAWL DỮ LIỆU TỪ NHIỀU TRANG\n",
    "\n",
    "# Mục tiêu:\n",
    "- Thực hiện vòng lặp qua tất cả các trang cho đến khi đủ 2000 mẫu dữ liệu\n",
    "- Xử lý lỗi và kiểm tra điều kiện dừng\n",
    "\n",
    "# Logic thực hiện:\n",
    "1. Tạo URL cho từng trang (trang 1 có URL đặc biệt)\n",
    "2. Gửi request và kiểm tra phản hồi\n",
    "3. Phát hiện trang cuối cùng bằng cách kiểm tra redirect\n",
    "4. Parse HTML và tìm tất cả các item chứa thông tin bất động sản"
   ]
  },
  {
   "cell_type": "code",
   "execution_count": null,
   "id": "cfe3b8db",
   "metadata": {},
   "outputs": [],
   "source": [
    "while len(data) < max_data:\n",
    "    if page == 1:\n",
    "        url = \"https://homedy.com/ban-nha-dat\"\n",
    "    else:\n",
    "        url = BASE_URL.format(page)\n",
    "    \n",
    "    print(f\"Đang crawl trang {page}: {url}\")\n",
    "    \n",
    "    try:\n",
    "        response = requests.get(url, headers=HEADERS)\n",
    "        response.raise_for_status()\n",
    "        \n",
    "        if response.url != url and \"ban-nha-dat\" not in response.url:\n",
    "            print(\"Đã đến trang cuối cùng. Dừng crawl.\")\n",
    "            break\n",
    "            \n",
    "    except requests.exceptions.RequestException as e:\n",
    "        print(f\"Lỗi khi gửi yêu cầu đến trang {page}: {e}\")\n",
    "        break\n",
    "\n",
    "    soup = BeautifulSoup(response.content, 'html.parser')\n",
    "    list_items = soup.find_all('div', class_='product-content')\n",
    "    \n",
    "    if not list_items:\n",
    "        print(\"Không tìm thấy tin đăng nào. Kết thúc crawl.\")\n",
    "        break"
   ]
  },
  {
   "cell_type": "markdown",
   "id": "aa7d38ab",
   "metadata": {},
   "source": [
    "\n",
    " ## PHẦN 4: TRÍCH XUẤT VÀ XỬ LÝ DỮ LIỆU\n",
    "\n",
    "  # Mục tiêu:\n",
    "  - Trích xuất thông tin từ mỗi item (tin đăng)\n",
    "  - Lọc và làm sạch dữ liệu\n",
    "  - Thêm vào danh sách tổng hợp\n",
    "    \n",
    "  # Các trường dữ liệu được trích xuất:\n",
    "  - Địa chỉ (address): từ thẻ <li class=\"address\">\n",
    "  - Diện tích (acreage): từ thẻ <span class=\"acreage\"> \n",
    "  - Giá (price): từ thẻ <span class=\"price\">\n",
    "  - Trang (page): số trang để theo dõi\n"
   ]
  },
  {
   "cell_type": "code",
   "execution_count": null,
   "id": "4c31956c",
   "metadata": {},
   "outputs": [
    {
     "name": "stdout",
     "output_type": "stream",
     "text": [
      "Đã thu thập 2 mẫu từ trang 112. Tổng cộng: 2000/2000\n",
      "Tạm dừng 3.16 giây...\n"
     ]
    }
   ],
   "source": [
    "items_count = 0\n",
    "    for item in list_items:\n",
    "        try:\n",
    "            price_element = item.find('span', class_='price')\n",
    "            price = price_element.get_text(strip=True) if price_element else \"Không rõ\"\n",
    "            \n",
    "            acreage_element = item.find('span', class_='acreage')\n",
    "            acreage = acreage_element.get_text(strip=True) if acreage_element else \"Không rõ\"\n",
    "            \n",
    "            address_element = item.find('li', class_='address')\n",
    "            address = address_element.get_text(strip=True) if address_element else \"Không rõ\"\n",
    "            \n",
    "            if price != \"Không rõ\" or acreage != \"Không rõ\" or address != \"Không rõ\":\n",
    "                data.append({\n",
    "                    'Địa chỉ': address,\n",
    "                    'Diện tích': acreage,\n",
    "                    'Giá': price,\n",
    "                    'Trang': page\n",
    "                })\n",
    "                items_count += 1\n",
    "                \n",
    "            if len(data) >= max_data:\n",
    "                break\n",
    "                \n",
    "        except Exception as e:\n",
    "            print(f\"Lỗi khi trích xuất dữ liệu từ một item: {e}\")\n",
    "            continue\n",
    "    \n",
    "    print(f\"Đã thu thập {items_count} mẫu từ trang {page}. Tổng cộng: {len(data)}/{max_data}\")\n",
    "    \n",
    "    page += 1\n",
    "    \n",
    "    sleep_time = random.uniform(2, 5)\n",
    "    print(f\"Tạm dừng {sleep_time:.2f} giây...\")\n",
    "    time.sleep(sleep_time)"
   ]
  },
  {
   "cell_type": "markdown",
   "id": "4b2899c0",
   "metadata": {},
   "source": [
    "\n",
    "## PHẦN 5: LƯU TRỮ VÀ XUẤT DỮ LIỆU\n",
    "\n",
    "# Mục tiêu:\n",
    "- Chuyển đổi dữ liệu thành DataFrame\n",
    "- Hiển thị thống kê và preview dữ liệu\n",
    "- Lưu thành file CSV để sử dụng sau này\n",
    "\n",
    "# Đặc điểm:\n",
    "- File CSV được lưu với encoding UTF-8 với BOM để hỗ trợ tiếng Việt trong Excel\n",
    "- Tên file chứa timestamp để tránh ghi đè\n",
    "- Hiển thị 5 mẫu đầu tiên để kiểm tra\n"
   ]
  },
  {
   "cell_type": "code",
   "execution_count": null,
   "id": "f75b7622",
   "metadata": {},
   "outputs": [
    {
     "name": "stdout",
     "output_type": "stream",
     "text": [
      "\n",
      "Đã thu thập thành công 2000 mẫu dữ liệu!\n",
      "\n",
      "5 mẫu đầu tiên:\n",
      "                              Địa chỉ    Diện tích           Giá  Trang\n",
      "0           Văn Giang,  tỉnh Hưng Yên  28 - 112 m2  1,9 - 6,5 Tỷ      1\n",
      "1    Quận Bình Thạnh,  TP Hồ Chí Minh        50 m2          2 Tỷ      1\n",
      "2            Quận 10,  TP Hồ Chí Minh        63 m2     970 Triệu      1\n",
      "3  quận Ninh Kiều,  thành phố Cần Thơ        70 m2        1,5 Tỷ      1\n",
      "4      Thành phố Quy Nhơn,  Bình Định   50 - 96 m2  2,4 - 7,9 Tỷ      1\n",
      "\n",
      "Đã lưu dữ liệu vào file 'vietnam_housing_data_20251028_205210.csv'\n"
     ]
    }
   ],
   "source": [
    "if data:\n",
    "    df = pd.DataFrame(data)\n",
    "    print(f\"\\nĐã thu thập thành công {len(df)} mẫu dữ liệu!\")\n",
    "    print(\"\\n5 mẫu đầu tiên:\")\n",
    "    print(df.head())\n",
    "    \n",
    "    timestamp = time.strftime(\"%Y%m%d_%H%M%S\")\n",
    "    filename = f'vietnam_housing_data_{timestamp}.csv'\n",
    "    df.to_csv(filename, index=False, encoding='utf-8-sig')\n",
    "    print(f\"\\nĐã lưu dữ liệu vào file '{filename}'\")\n",
    "else:\n",
    "    print(\"Không tìm thấy dữ liệu nào để lưu!\")"
   ]
  }
 ],
 "metadata": {
  "kernelspec": {
   "display_name": "venv",
   "language": "python",
   "name": "python3"
  },
  "language_info": {
   "codemirror_mode": {
    "name": "ipython",
    "version": 3
   },
   "file_extension": ".py",
   "mimetype": "text/x-python",
   "name": "python",
   "nbconvert_exporter": "python",
   "pygments_lexer": "ipython3",
   "version": "3.13.3"
  }
 },
 "nbformat": 4,
 "nbformat_minor": 5
}
